{
 "cells": [
  {
   "cell_type": "markdown",
   "metadata": {},
   "source": [
    "## 初始状态项目结构\n",
    "```\n",
    "project\n",
    "├── code\n",
    "|   └── e2d_deepfasion.ipynb\n",
    "└── dataset\n",
    "    └── deepfasion-multimodel\n",
    "        ├── images\n",
    "        ├── test_captions.json\n",
    "        └── train_captions.json\n",
    "```\n",
    "\n",
    "如果不按照此代码框架运行，可能会出问题，或者也可以根据你自己的文件分布，更改`ipynb`代码。\n",
    "\n",
    "我们首先进行数据集的处理工作。\n",
    "\n",
    "## 数据集处理方案\n",
    "\n",
    "数据集下载完成后，我们需要对其进行处理，以适合之后构造的PyTorch数据集类读取。\n",
    "\n",
    "- 对于文本描述，我们首先构建词典，然后根据词典将文本描述转化为向量。\n",
    "- 对于图像，我们这里仅记录文件路径。在模型训练与测试阶段，再进行读取。"
   ]
  },
  {
   "cell_type": "code",
   "execution_count": 3,
   "metadata": {},
   "outputs": [
    {
     "name": "stdout",
     "output_type": "stream",
     "text": [
      "The code is running in path: `/d_workspace/Python/NNDL/code`\n",
      "Device of your machine: cuda:0\n",
      "Device name: NVIDIA GeForce RTX 4070 Laptop GPU\n",
      "Device capability: 8.9\n",
      "Device memory: 7.99560546875 GB\n",
      "Device multi-processor count: 36\n"
     ]
    },
    {
     "ename": "AttributeError",
     "evalue": "'torch._C._CudaDeviceProperties' object has no attribute 'l2_cache_size'",
     "output_type": "error",
     "traceback": [
      "\u001b[0;31m---------------------------------------------------------------------------\u001b[0m",
      "\u001b[0;31mAttributeError\u001b[0m                            Traceback (most recent call last)",
      "\u001b[1;32m/d_workspace/Python/NNDL/code/arctic_deepfasion.ipynb 单元格 2\u001b[0m line \u001b[0;36m2\n\u001b[1;32m     <a href='vscode-notebook-cell://attached-container%2B7b22636f6e7461696e65724e616d65223a222f646576656c6f70227d/d_workspace/Python/NNDL/code/arctic_deepfasion.ipynb#W1sdnNjb2RlLXJlbW90ZQ%3D%3D?line=20'>21</a>\u001b[0m     \u001b[39mprint\u001b[39m(\u001b[39mf\u001b[39m\u001b[39m\"\u001b[39m\u001b[39mDevice L2 cache size: \u001b[39m\u001b[39m{\u001b[39;00mdevice_info\u001b[39m.\u001b[39ml2_cache_size\u001b[39m \u001b[39m\u001b[39m/\u001b[39m\u001b[39m \u001b[39m\u001b[39m1024\u001b[39m\u001b[39m}\u001b[39;00m\u001b[39m KB\u001b[39m\u001b[39m\"\u001b[39m)\n\u001b[1;32m     <a href='vscode-notebook-cell://attached-container%2B7b22636f6e7461696e65724e616d65223a222f646576656c6f70227d/d_workspace/Python/NNDL/code/arctic_deepfasion.ipynb#W1sdnNjb2RlLXJlbW90ZQ%3D%3D?line=21'>22</a>\u001b[0m     \u001b[39mprint\u001b[39m(\u001b[39mf\u001b[39m\u001b[39m\"\u001b[39m\u001b[39mDevice memory bandwidth: \u001b[39m\u001b[39m{\u001b[39;00mdevice_info\u001b[39m.\u001b[39mmemory_bandwidth\u001b[39m \u001b[39m\u001b[39m/\u001b[39m\u001b[39m \u001b[39m\u001b[39m1024\u001b[39m\u001b[39m \u001b[39m\u001b[39m*\u001b[39m\u001b[39m*\u001b[39m\u001b[39m \u001b[39m\u001b[39m3\u001b[39m\u001b[39m}\u001b[39;00m\u001b[39m GB/s\u001b[39m\u001b[39m\"\u001b[39m)\n\u001b[0;32m---> <a href='vscode-notebook-cell://attached-container%2B7b22636f6e7461696e65724e616d65223a222f646576656c6f70227d/d_workspace/Python/NNDL/code/arctic_deepfasion.ipynb#W1sdnNjb2RlLXJlbW90ZQ%3D%3D?line=23'>24</a>\u001b[0m get_device_info()\n\u001b[1;32m     <a href='vscode-notebook-cell://attached-container%2B7b22636f6e7461696e65724e616d65223a222f646576656c6f70227d/d_workspace/Python/NNDL/code/arctic_deepfasion.ipynb#W1sdnNjb2RlLXJlbW90ZQ%3D%3D?line=25'>26</a>\u001b[0m base_path \u001b[39m=\u001b[39m \u001b[39m\"\u001b[39m\u001b[39m../dataset/deepfashion-multimodal/\u001b[39m\u001b[39m\"\u001b[39m\n\u001b[1;32m     <a href='vscode-notebook-cell://attached-container%2B7b22636f6e7461696e65724e616d65223a222f646576656c6f70227d/d_workspace/Python/NNDL/code/arctic_deepfasion.ipynb#W1sdnNjb2RlLXJlbW90ZQ%3D%3D?line=27'>28</a>\u001b[0m dataset_path \u001b[39m=\u001b[39m {\n\u001b[1;32m     <a href='vscode-notebook-cell://attached-container%2B7b22636f6e7461696e65724e616d65223a222f646576656c6f70227d/d_workspace/Python/NNDL/code/arctic_deepfasion.ipynb#W1sdnNjb2RlLXJlbW90ZQ%3D%3D?line=28'>29</a>\u001b[0m   \u001b[39m\"\u001b[39m\u001b[39mimages\u001b[39m\u001b[39m\"\u001b[39m: os\u001b[39m.\u001b[39mpath\u001b[39m.\u001b[39mjoin(base_path, \u001b[39m\"\u001b[39m\u001b[39mimages\u001b[39m\u001b[39m\"\u001b[39m),\n\u001b[1;32m     <a href='vscode-notebook-cell://attached-container%2B7b22636f6e7461696e65724e616d65223a222f646576656c6f70227d/d_workspace/Python/NNDL/code/arctic_deepfasion.ipynb#W1sdnNjb2RlLXJlbW90ZQ%3D%3D?line=29'>30</a>\u001b[0m   \u001b[39m\"\u001b[39m\u001b[39mtrain_label\u001b[39m\u001b[39m\"\u001b[39m: os\u001b[39m.\u001b[39mpath\u001b[39m.\u001b[39mjoin(base_path, \u001b[39m\"\u001b[39m\u001b[39mtrain_captions.json\u001b[39m\u001b[39m\"\u001b[39m),\n\u001b[1;32m     <a href='vscode-notebook-cell://attached-container%2B7b22636f6e7461696e65724e616d65223a222f646576656c6f70227d/d_workspace/Python/NNDL/code/arctic_deepfasion.ipynb#W1sdnNjb2RlLXJlbW90ZQ%3D%3D?line=30'>31</a>\u001b[0m   \u001b[39m\"\u001b[39m\u001b[39mtest_label\u001b[39m\u001b[39m\"\u001b[39m: os\u001b[39m.\u001b[39mpath\u001b[39m.\u001b[39mjoin(base_path, \u001b[39m\"\u001b[39m\u001b[39mtest_captions.json\u001b[39m\u001b[39m\"\u001b[39m)\n\u001b[1;32m     <a href='vscode-notebook-cell://attached-container%2B7b22636f6e7461696e65724e616d65223a222f646576656c6f70227d/d_workspace/Python/NNDL/code/arctic_deepfasion.ipynb#W1sdnNjb2RlLXJlbW90ZQ%3D%3D?line=31'>32</a>\u001b[0m }\n",
      "\u001b[1;32m/d_workspace/Python/NNDL/code/arctic_deepfasion.ipynb 单元格 2\u001b[0m line \u001b[0;36m2\n\u001b[1;32m     <a href='vscode-notebook-cell://attached-container%2B7b22636f6e7461696e65724e616d65223a222f646576656c6f70227d/d_workspace/Python/NNDL/code/arctic_deepfasion.ipynb#W1sdnNjb2RlLXJlbW90ZQ%3D%3D?line=18'>19</a>\u001b[0m \u001b[39mprint\u001b[39m(\u001b[39mf\u001b[39m\u001b[39m\"\u001b[39m\u001b[39mDevice memory: \u001b[39m\u001b[39m{\u001b[39;00mdevice_info\u001b[39m.\u001b[39mtotal_memory\u001b[39m \u001b[39m\u001b[39m/\u001b[39m\u001b[39m \u001b[39m\u001b[39m1024\u001b[39m\u001b[39m \u001b[39m\u001b[39m*\u001b[39m\u001b[39m*\u001b[39m\u001b[39m \u001b[39m\u001b[39m3\u001b[39m\u001b[39m}\u001b[39;00m\u001b[39m GB\u001b[39m\u001b[39m\"\u001b[39m)\n\u001b[1;32m     <a href='vscode-notebook-cell://attached-container%2B7b22636f6e7461696e65724e616d65223a222f646576656c6f70227d/d_workspace/Python/NNDL/code/arctic_deepfasion.ipynb#W1sdnNjb2RlLXJlbW90ZQ%3D%3D?line=19'>20</a>\u001b[0m \u001b[39mprint\u001b[39m(\u001b[39mf\u001b[39m\u001b[39m\"\u001b[39m\u001b[39mDevice multi-processor count: \u001b[39m\u001b[39m{\u001b[39;00mdevice_info\u001b[39m.\u001b[39mmulti_processor_count\u001b[39m}\u001b[39;00m\u001b[39m\"\u001b[39m)\n\u001b[0;32m---> <a href='vscode-notebook-cell://attached-container%2B7b22636f6e7461696e65724e616d65223a222f646576656c6f70227d/d_workspace/Python/NNDL/code/arctic_deepfasion.ipynb#W1sdnNjb2RlLXJlbW90ZQ%3D%3D?line=20'>21</a>\u001b[0m \u001b[39mprint\u001b[39m(\u001b[39mf\u001b[39m\u001b[39m\"\u001b[39m\u001b[39mDevice L2 cache size: \u001b[39m\u001b[39m{\u001b[39;00mdevice_info\u001b[39m.\u001b[39;49ml2_cache_size\u001b[39m \u001b[39m\u001b[39m/\u001b[39m\u001b[39m \u001b[39m\u001b[39m1024\u001b[39m\u001b[39m}\u001b[39;00m\u001b[39m KB\u001b[39m\u001b[39m\"\u001b[39m)\n\u001b[1;32m     <a href='vscode-notebook-cell://attached-container%2B7b22636f6e7461696e65724e616d65223a222f646576656c6f70227d/d_workspace/Python/NNDL/code/arctic_deepfasion.ipynb#W1sdnNjb2RlLXJlbW90ZQ%3D%3D?line=21'>22</a>\u001b[0m \u001b[39mprint\u001b[39m(\u001b[39mf\u001b[39m\u001b[39m\"\u001b[39m\u001b[39mDevice memory bandwidth: \u001b[39m\u001b[39m{\u001b[39;00mdevice_info\u001b[39m.\u001b[39mmemory_bandwidth\u001b[39m \u001b[39m\u001b[39m/\u001b[39m\u001b[39m \u001b[39m\u001b[39m1024\u001b[39m\u001b[39m \u001b[39m\u001b[39m*\u001b[39m\u001b[39m*\u001b[39m\u001b[39m \u001b[39m\u001b[39m3\u001b[39m\u001b[39m}\u001b[39;00m\u001b[39m GB/s\u001b[39m\u001b[39m\"\u001b[39m)\n",
      "\u001b[0;31mAttributeError\u001b[0m: 'torch._C._CudaDeviceProperties' object has no attribute 'l2_cache_size'"
     ]
    }
   ],
   "source": [
    "import os\n",
    "import json\n",
    "import random\n",
    "\n",
    "import torch\n",
    "\n",
    "code_running_path = os.getcwd()\n",
    "device = torch.device('cuda:0' if torch.cuda.is_available() else 'cpu')\n",
    "\n",
    "print(f\"The code is running in path: `{code_running_path}`\")\n",
    "print(f\"Device of your machine: {device}\")\n",
    "\n",
    "base_path = \"../dataset/deepfashion-multimodal/\"\n",
    "\n",
    "dataset_path = {\n",
    "  \"images\": os.path.join(base_path, \"images\"),\n",
    "  \"train_label\": os.path.join(base_path, \"train_captions.json\"),\n",
    "  \"test_label\": os.path.join(base_path, \"test_captions.json\")\n",
    "}\n",
    "\n",
    "\n",
    "def process_dataset(min_word_count: int = 5):\n",
    "    with open(dataset_path[\"train_label\"]) as f:\n",
    "        train_labels = json.load(f)\n",
    "    with open(dataset_path[\"test_label\"]) as f:\n",
    "        test_labels = json.load(f)\n",
    "    train_labels_name = list(train_labels.keys())\n",
    "    \n",
    "    # randomly choose 20% of the training data as validation data\n",
    "    random.shuffle(train_labels_name)\n",
    "    val_labels_name = train_labels_name[:int(len(train_labels_name) * 0.2)]\n",
    "    train_labels_name = train_labels_name[int(len(train_labels_name) * 0.2):]\n",
    "    test_labels_name = list(test_labels.keys())\n",
    "    \n",
    "process_dataset()\n"
   ]
  },
  {
   "cell_type": "markdown",
   "metadata": {},
   "source": []
  }
 ],
 "metadata": {
  "kernelspec": {
   "display_name": "base",
   "language": "python",
   "name": "python3"
  },
  "language_info": {
   "codemirror_mode": {
    "name": "ipython",
    "version": 3
   },
   "file_extension": ".py",
   "mimetype": "text/x-python",
   "name": "python",
   "nbconvert_exporter": "python",
   "pygments_lexer": "ipython3",
   "version": "3.11.5"
  },
  "orig_nbformat": 4
 },
 "nbformat": 4,
 "nbformat_minor": 2
}
